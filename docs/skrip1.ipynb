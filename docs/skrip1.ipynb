{
 "cells": [
  {
   "cell_type": "code",
   "execution_count": 1,
   "metadata": {},
   "outputs": [],
   "source": [
    "import json\n",
    "import re\n",
    "import string\n",
    "import numpy as np\n",
    "import pandas as pd\n",
    "from Sastrawi.StopWordRemover.StopWordRemoverFactory import StopWordRemoverFactory # Rumus Library\n",
    "from Sastrawi.Stemmer.StemmerFactory import StemmerFactory\n",
    "import string # Rumus Library\n",
    "import sys # Rumus supaya baca command promp\n",
    "\n",
    "\n",
    "stemmer = StemmerFactory().create_stemmer() # Object stemmer\n",
    "remover = StopWordRemoverFactory().create_stop_word_remover() # objek stopword"
   ]
  },
  {
   "cell_type": "code",
   "execution_count": 2,
   "metadata": {},
   "outputs": [
    {
     "data": {
      "text/plain": [
       "['50 gram Beras 25 gram Brokoli 1/2 sendok teh Garam 400 cc Kaldu Ayam 2 sendok teh Minyak 50 gram Tempe 15 gram Teri Nasi Tawar',\n",
       " '5 buah Bakso 1 batang Daun Bawang  1 siung Bawang Putih 1 sendok teh Garam 500 cc Kaldu 1 sendok makan Minyak Sayur 1 buah Oyong 1 batang Seledri 50 gram Soun 1 buah Tahu',\n",
       " '1 buah Jagung Manis 100 gram Kacang Polong 50 gram Keju Cheddar 125 gram Margarin 1/2 sendok teh Merica Bubuk 200 ml Susu Cair 2 butir Telur 350 gram Tepung Terigu 100 gram Wortel',\n",
       " '1 batang Daun Bawang 1 sendok teh Garam Halus 500 gram Kentang 100 gram Kornet Kalengan 1 sendok makan Margarin',\n",
       " '1 siung Bawang Putih 1 sendok teh Garam 1 buah Hati Ayam Rebus 50 gram Jagung Manis 200 ml Kaldu Ayam 1 sendok teh Mentega 50 ml Susu 1 sendok teh Tepung Terigu 20 gram Wortel',\n",
       " '1 sendok teh Bawang Bombay 50 gram Brokoli 50 gram Dada Ayam 200 ml Kaldu Ayam 50 gram Kentang 1 sendok teh Minyak Zaitun 50 gram Tahu Sutra',\n",
       " '25 gram Daging Ayam 25 gram Kacang Polong 300 cc Kaldu 10 gram Keju Parut 25 gram Makaroni 25 gram Tahu Potong 25 gram Tomat',\n",
       " '1/2 sendok teh Garam 750 gram Kentang 3 sendok teh Margarin 1 sendok teh Merica Bubuk 1/2 sendok teh Pala Bubuk 225 ml Susu Cair',\n",
       " '2 sendok makan Beras 25 gram Daging Ayam 300 ml Kaldu Ayam 10 gram Keju Parut 200 ml Santan 25 gram Tahu 25 gram Tomat 5 gram Wortel',\n",
       " '30 gram Bayam 25 gram Butter Tawar 30 gram Daun Bawang 25 gram Kacang Polong Beku 200 ml Kaldu 25 gram Ubi']"
      ]
     },
     "execution_count": 2,
     "metadata": {},
     "output_type": "execute_result"
    }
   ],
   "source": [
    "data = pd.read_excel('dok.xlsx');\n",
    "list_dokumen = data.Bahan.tolist()\n",
    "list_dokumen = [tem.replace(u\"\\xa0\",u\"\") for tem in list_dokumen]\n",
    "list_dokumen = [str(tem) for tem in list_dokumen]\n",
    "list_dokumen"
   ]
  },
  {
   "cell_type": "code",
   "execution_count": 11,
   "metadata": {},
   "outputs": [],
   "source": [
    "def preprocess(doc): #fungsi untuk preprocesing dokumen\n",
    "    listStem = [] # variabel untuk menampung data preprocesing\n",
    "    for i in doc:\n",
    "        lowerku = i.lower() # membuat huruf kecil\n",
    "        s = re.sub(r'[^\\w\\s]','',lowerku) # normalisasi text dari code\n",
    "        textStemmed = stemmer.stem(s) # steming kata\n",
    "        textClean = remover.remove(textStemmed) # membuang kata tdak penting\n",
    "        if textClean != \"-\": \n",
    "            listStem.append(textClean) #menambah data kata yang sudah di steming di dalam variabel liststem\n",
    "    return listStem # mengembalikan nilai listStem\n",
    "\n",
    "def replaceMultiple(mainString, toBeReplaces, newString):\n",
    "    # Iterate over the strings to be replaced\n",
    "    for elem in toBeReplaces :\n",
    "        # Check if string is in the main string\n",
    "        if elem in mainString :\n",
    "            # Replace the string\n",
    "            mainString = mainString.replace(elem, newString)\n",
    "    \n",
    "    return  mainString"
   ]
  },
  {
   "cell_type": "code",
   "execution_count": 12,
   "metadata": {},
   "outputs": [
    {
     "data": {
      "text/plain": [
       "['50 gram beras 25 gram brokoli 12 sendok teh garam 400 cc kaldu ayam 2 sendok teh minyak 50 gram tempe 15 gram teri nasi tawar',\n",
       " '5 buah bakso 1 batang daun bawang 1 siung bawang putih 1 sendok teh garam 500 cc kaldu 1 sendok makan minyak sayur 1 buah oyong 1 batang seledri 50 gram soun 1 buah tahu',\n",
       " '1 buah jagung manis 100 gram kacang polong 50 gram keju cheddar 125 gram margarin 12 sendok teh merica bubuk 200 ml susu cair 2 butir telur 350 gram tepung terigu 100 gram wortel',\n",
       " '1 batang daun bawang 1 sendok teh garam halus 500 gram kentang 100 gram kornet kaleng 1 sendok makan margarin',\n",
       " '1 siung bawang putih 1 sendok teh garam 1 buah hati ayam rebus 50 gram jagung manis 200 ml kaldu ayam 1 sendok teh mentega 50 ml susu 1 sendok teh tepung terigu 20 gram wortel',\n",
       " '1 sendok teh bawang bombay 50 gram brokoli 50 gram dada ayam 200 ml kaldu ayam 50 gram kentang 1 sendok teh minyak zaitun 50 gram tahu sutra',\n",
       " '25 gram daging ayam 25 gram kacang polong 300 cc kaldu 10 gram keju parut 25 gram makaroni 25 gram tahu potong 25 gram tomat',\n",
       " '12 sendok teh garam 750 gram kentang 3 sendok teh margarin 1 sendok teh merica bubuk 12 sendok teh pala bubuk 225 ml susu cair',\n",
       " '2 sendok makan beras 25 gram daging ayam 300 ml kaldu ayam 10 gram keju parut 200 ml santan 25 gram tahu 25 gram tomat 5 gram wortel',\n",
       " '30 gram bayam 25 gram butter tawar 30 gram daun bawang 25 gram kacang polong beku 200 ml kaldu 25 gram ubi']"
      ]
     },
     "execution_count": 12,
     "metadata": {},
     "output_type": "execute_result"
    }
   ],
   "source": [
    "pre_bahan = preprocess(list_dokumen)\n",
    "pre_bahan"
   ]
  },
  {
   "cell_type": "code",
   "execution_count": 14,
   "metadata": {},
   "outputs": [
    {
     "name": "stdout",
     "output_type": "stream",
     "text": [
      "['beras brokoli garam kaldu ayam minyak tempe teri nasi tawar', 'bakso daun bawang bawang putih garam kaldu minyak sayur oyong seledri soun tahu', 'jagung manis kacang polong keju cheddar margarin merica bubuk susu cair telur tepung terigu wortel', 'daun bawang garam halus kentang kornet kaleng margarin', 'bawang putih garam hati ayam rebus jagung manis kaldu ayam mentega susu tepung terigu wortel', 'bawang bombay brokoli dada ayam kaldu ayam kentang minyak zaitun tahu sutra', 'daging ayam kacang polong kaldu keju parut makaroni tahu potong tomat', 'garam kentang margarin merica bubuk pala bubuk susu cair', 'beras daging ayam kaldu ayam keju parut santan tahu tomat wortel', 'bayam butter tawar daun bawang kacang polong beku kaldu ubi']\n"
     ]
    }
   ],
   "source": [
    "list_bahan = []\n",
    "for sampel in pre_bahan:\n",
    "    result = ''.join([i for i in sampel if not i.isdigit()])\n",
    "    otherStr = replaceMultiple(result, ['gram','ml','cc','buah','sendok teh','sendok makan','sendok takar','butir','cangkir','siung','batang'] ,\"\")\n",
    "    a = re.sub(' +',' ',otherStr) #untuk menghilangkan double spasi dikalimat\n",
    "    b = a.lstrip() #untuk hilangkan spasi di depan kalimat\n",
    "    list_bahan.append(b)\n",
    "print(list_bahan)"
   ]
  },
  {
   "cell_type": "code",
   "execution_count": 15,
   "metadata": {},
   "outputs": [],
   "source": [
    "import math\n",
    "\n",
    "def dice_distance(a, b):\n",
    "    c = a.intersection(b)\n",
    "    return float(2 * len(c)) / (len(a) + len(b))\n",
    "\n",
    "def search(query, datanya):\n",
    "    lol = preprocess([query])\n",
    "    alldata = []\n",
    "    alldata.append(set(lol[0].split(\" \")))\n",
    "    for i in datanya:\n",
    "        lol2 = preprocess([i])\n",
    "        alldata.append(lol2[0].split(\" \"))\n",
    "    \n",
    "    score = []\n",
    "#     print alldata\n",
    "    for tf in range(1,len(alldata)):\n",
    "        score.append(dice_distance(alldata[0],alldata[tf]))\n",
    "#     print len(alldata)\n",
    "#         print score\n",
    "    return score"
   ]
  },
  {
   "cell_type": "code",
   "execution_count": 16,
   "metadata": {},
   "outputs": [
    {
     "data": {
      "text/html": [
       "<div>\n",
       "<style scoped>\n",
       "    .dataframe tbody tr th:only-of-type {\n",
       "        vertical-align: middle;\n",
       "    }\n",
       "\n",
       "    .dataframe tbody tr th {\n",
       "        vertical-align: top;\n",
       "    }\n",
       "\n",
       "    .dataframe thead th {\n",
       "        text-align: right;\n",
       "    }\n",
       "</style>\n",
       "<table border=\"1\" class=\"dataframe\">\n",
       "  <thead>\n",
       "    <tr style=\"text-align: right;\">\n",
       "      <th></th>\n",
       "      <th>Bahan</th>\n",
       "      <th>Score</th>\n",
       "    </tr>\n",
       "  </thead>\n",
       "  <tbody>\n",
       "    <tr>\n",
       "      <th>0</th>\n",
       "      <td>50 gram Beras 25 gram Brokoli 1/2 sendok teh G...</td>\n",
       "      <td>0.142857</td>\n",
       "    </tr>\n",
       "    <tr>\n",
       "      <th>1</th>\n",
       "      <td>5 buah Bakso 1 batang Daun Bawang  1 siung Baw...</td>\n",
       "      <td>0.117647</td>\n",
       "    </tr>\n",
       "    <tr>\n",
       "      <th>2</th>\n",
       "      <td>1 buah Jagung Manis 100 gram Kacang Polong 50 ...</td>\n",
       "      <td>0.000000</td>\n",
       "    </tr>\n",
       "    <tr>\n",
       "      <th>3</th>\n",
       "      <td>1 batang Daun Bawang 1 sendok teh Garam Halus ...</td>\n",
       "      <td>0.000000</td>\n",
       "    </tr>\n",
       "    <tr>\n",
       "      <th>4</th>\n",
       "      <td>1 siung Bawang Putih 1 sendok teh Garam 1 buah...</td>\n",
       "      <td>0.105263</td>\n",
       "    </tr>\n",
       "    <tr>\n",
       "      <th>5</th>\n",
       "      <td>1 sendok teh Bawang Bombay 50 gram Brokoli 50 ...</td>\n",
       "      <td>0.250000</td>\n",
       "    </tr>\n",
       "    <tr>\n",
       "      <th>6</th>\n",
       "      <td>25 gram Daging Ayam 25 gram Kacang Polong 300 ...</td>\n",
       "      <td>0.533333</td>\n",
       "    </tr>\n",
       "    <tr>\n",
       "      <th>7</th>\n",
       "      <td>1/2 sendok teh Garam 750 gram Kentang 3 sendok...</td>\n",
       "      <td>0.000000</td>\n",
       "    </tr>\n",
       "    <tr>\n",
       "      <th>8</th>\n",
       "      <td>2 sendok makan Beras 25 gram Daging Ayam 300 m...</td>\n",
       "      <td>0.400000</td>\n",
       "    </tr>\n",
       "    <tr>\n",
       "      <th>9</th>\n",
       "      <td>30 gram Bayam 25 gram Butter Tawar 30 gram Dau...</td>\n",
       "      <td>0.000000</td>\n",
       "    </tr>\n",
       "  </tbody>\n",
       "</table>\n",
       "</div>"
      ],
      "text/plain": [
       "                                               Bahan     Score\n",
       "0  50 gram Beras 25 gram Brokoli 1/2 sendok teh G...  0.142857\n",
       "1  5 buah Bakso 1 batang Daun Bawang  1 siung Baw...  0.117647\n",
       "2  1 buah Jagung Manis 100 gram Kacang Polong 50 ...  0.000000\n",
       "3  1 batang Daun Bawang 1 sendok teh Garam Halus ...  0.000000\n",
       "4  1 siung Bawang Putih 1 sendok teh Garam 1 buah...  0.105263\n",
       "5  1 sendok teh Bawang Bombay 50 gram Brokoli 50 ...  0.250000\n",
       "6  25 gram Daging Ayam 25 gram Kacang Polong 300 ...  0.533333\n",
       "7  1/2 sendok teh Garam 750 gram Kentang 3 sendok...  0.000000\n",
       "8  2 sendok makan Beras 25 gram Daging Ayam 300 m...  0.400000\n",
       "9  30 gram Bayam 25 gram Butter Tawar 30 gram Dau...  0.000000"
      ]
     },
     "execution_count": 16,
     "metadata": {},
     "output_type": "execute_result"
    }
   ],
   "source": [
    "semuanya = []\n",
    "n = search(\"daging ayam makaroni tahu\", list_bahan)\n",
    "frame = pd.DataFrame(data['Bahan'])\n",
    "# print data['Temuan']\n",
    "frame['Score'] = n\n",
    "frame"
   ]
  },
  {
   "cell_type": "code",
   "execution_count": 17,
   "metadata": {},
   "outputs": [],
   "source": [
    "i = 0\n",
    "alldrop = []\n",
    "for testscore in frame['Score']:\n",
    "            if testscore<=0.5:\n",
    "                alldrop.append(i)\n",
    "#                 frame.drop(frame.index[i])\n",
    "            i = i + 1"
   ]
  },
  {
   "cell_type": "code",
   "execution_count": 25,
   "metadata": {},
   "outputs": [
    {
     "data": {
      "text/html": [
       "<div>\n",
       "<style scoped>\n",
       "    .dataframe tbody tr th:only-of-type {\n",
       "        vertical-align: middle;\n",
       "    }\n",
       "\n",
       "    .dataframe tbody tr th {\n",
       "        vertical-align: top;\n",
       "    }\n",
       "\n",
       "    .dataframe thead th {\n",
       "        text-align: right;\n",
       "    }\n",
       "</style>\n",
       "<table border=\"1\" class=\"dataframe\">\n",
       "  <thead>\n",
       "    <tr style=\"text-align: right;\">\n",
       "      <th></th>\n",
       "      <th>Bahan</th>\n",
       "      <th>Score</th>\n",
       "      <th>Keterangan</th>\n",
       "    </tr>\n",
       "  </thead>\n",
       "  <tbody>\n",
       "    <tr>\n",
       "      <th>6</th>\n",
       "      <td>25 gram Daging Ayam 25 gram Kacang Polong 300 ...</td>\n",
       "      <td>0.533333</td>\n",
       "      <td>Relevan</td>\n",
       "    </tr>\n",
       "  </tbody>\n",
       "</table>\n",
       "</div>"
      ],
      "text/plain": [
       "                                               Bahan     Score Keterangan\n",
       "6  25 gram Daging Ayam 25 gram Kacang Polong 300 ...  0.533333    Relevan"
      ]
     },
     "execution_count": 25,
     "metadata": {},
     "output_type": "execute_result"
    }
   ],
   "source": [
    "newframe = frame.drop(frame.index[alldrop])\n",
    "rank = newframe.sort_values(by=['Score'], ascending=[False])\n",
    "newframe\n",
    "rank"
   ]
  },
  {
   "cell_type": "code",
   "execution_count": 32,
   "metadata": {},
   "outputs": [],
   "source": [
    "ket = []\n",
    "for data in frame['Score']:\n",
    "    if data >= 0.5:\n",
    "        z = \"Relevan\"\n",
    "    else:\n",
    "        z = \"Tidak Relevan\"\n",
    "    ket.append(z) # Harus di simpen dulu di list biar jumlahnya sama seperti data frame\n",
    "frame['Keterangan'] = ket # baru di assignment ket ke dalam frame['keterangan']"
   ]
  },
  {
   "cell_type": "code",
   "execution_count": 33,
   "metadata": {},
   "outputs": [
    {
     "data": {
      "text/html": [
       "<div>\n",
       "<style scoped>\n",
       "    .dataframe tbody tr th:only-of-type {\n",
       "        vertical-align: middle;\n",
       "    }\n",
       "\n",
       "    .dataframe tbody tr th {\n",
       "        vertical-align: top;\n",
       "    }\n",
       "\n",
       "    .dataframe thead th {\n",
       "        text-align: right;\n",
       "    }\n",
       "</style>\n",
       "<table border=\"1\" class=\"dataframe\">\n",
       "  <thead>\n",
       "    <tr style=\"text-align: right;\">\n",
       "      <th></th>\n",
       "      <th>Bahan</th>\n",
       "      <th>Score</th>\n",
       "      <th>Keterangan</th>\n",
       "    </tr>\n",
       "  </thead>\n",
       "  <tbody>\n",
       "    <tr>\n",
       "      <th>6</th>\n",
       "      <td>25 gram Daging Ayam 25 gram Kacang Polong 300 ...</td>\n",
       "      <td>0.533333</td>\n",
       "      <td>Relevan</td>\n",
       "    </tr>\n",
       "    <tr>\n",
       "      <th>8</th>\n",
       "      <td>2 sendok makan Beras 25 gram Daging Ayam 300 m...</td>\n",
       "      <td>0.400000</td>\n",
       "      <td>Tidak Relevan</td>\n",
       "    </tr>\n",
       "    <tr>\n",
       "      <th>5</th>\n",
       "      <td>1 sendok teh Bawang Bombay 50 gram Brokoli 50 ...</td>\n",
       "      <td>0.250000</td>\n",
       "      <td>Tidak Relevan</td>\n",
       "    </tr>\n",
       "    <tr>\n",
       "      <th>0</th>\n",
       "      <td>50 gram Beras 25 gram Brokoli 1/2 sendok teh G...</td>\n",
       "      <td>0.142857</td>\n",
       "      <td>Tidak Relevan</td>\n",
       "    </tr>\n",
       "    <tr>\n",
       "      <th>1</th>\n",
       "      <td>5 buah Bakso 1 batang Daun Bawang  1 siung Baw...</td>\n",
       "      <td>0.117647</td>\n",
       "      <td>Tidak Relevan</td>\n",
       "    </tr>\n",
       "    <tr>\n",
       "      <th>4</th>\n",
       "      <td>1 siung Bawang Putih 1 sendok teh Garam 1 buah...</td>\n",
       "      <td>0.105263</td>\n",
       "      <td>Tidak Relevan</td>\n",
       "    </tr>\n",
       "    <tr>\n",
       "      <th>2</th>\n",
       "      <td>1 buah Jagung Manis 100 gram Kacang Polong 50 ...</td>\n",
       "      <td>0.000000</td>\n",
       "      <td>Tidak Relevan</td>\n",
       "    </tr>\n",
       "    <tr>\n",
       "      <th>3</th>\n",
       "      <td>1 batang Daun Bawang 1 sendok teh Garam Halus ...</td>\n",
       "      <td>0.000000</td>\n",
       "      <td>Tidak Relevan</td>\n",
       "    </tr>\n",
       "    <tr>\n",
       "      <th>7</th>\n",
       "      <td>1/2 sendok teh Garam 750 gram Kentang 3 sendok...</td>\n",
       "      <td>0.000000</td>\n",
       "      <td>Tidak Relevan</td>\n",
       "    </tr>\n",
       "    <tr>\n",
       "      <th>9</th>\n",
       "      <td>30 gram Bayam 25 gram Butter Tawar 30 gram Dau...</td>\n",
       "      <td>0.000000</td>\n",
       "      <td>Tidak Relevan</td>\n",
       "    </tr>\n",
       "  </tbody>\n",
       "</table>\n",
       "</div>"
      ],
      "text/plain": [
       "                                               Bahan     Score     Keterangan\n",
       "6  25 gram Daging Ayam 25 gram Kacang Polong 300 ...  0.533333        Relevan\n",
       "8  2 sendok makan Beras 25 gram Daging Ayam 300 m...  0.400000  Tidak Relevan\n",
       "5  1 sendok teh Bawang Bombay 50 gram Brokoli 50 ...  0.250000  Tidak Relevan\n",
       "0  50 gram Beras 25 gram Brokoli 1/2 sendok teh G...  0.142857  Tidak Relevan\n",
       "1  5 buah Bakso 1 batang Daun Bawang  1 siung Baw...  0.117647  Tidak Relevan\n",
       "4  1 siung Bawang Putih 1 sendok teh Garam 1 buah...  0.105263  Tidak Relevan\n",
       "2  1 buah Jagung Manis 100 gram Kacang Polong 50 ...  0.000000  Tidak Relevan\n",
       "3  1 batang Daun Bawang 1 sendok teh Garam Halus ...  0.000000  Tidak Relevan\n",
       "7  1/2 sendok teh Garam 750 gram Kentang 3 sendok...  0.000000  Tidak Relevan\n",
       "9  30 gram Bayam 25 gram Butter Tawar 30 gram Dau...  0.000000  Tidak Relevan"
      ]
     },
     "execution_count": 33,
     "metadata": {},
     "output_type": "execute_result"
    }
   ],
   "source": [
    "rank = frame.sort_values(by=['Score'], ascending=[False])\n",
    "rank"
   ]
  },
  {
   "cell_type": "code",
   "execution_count": null,
   "metadata": {
    "collapsed": true
   },
   "outputs": [],
   "source": []
  }
 ],
 "metadata": {
  "kernelspec": {
   "display_name": "Python 3",
   "language": "python",
   "name": "python3"
  },
  "language_info": {
   "codemirror_mode": {
    "name": "ipython",
    "version": 3
   },
   "file_extension": ".py",
   "mimetype": "text/x-python",
   "name": "python",
   "nbconvert_exporter": "python",
   "pygments_lexer": "ipython3",
   "version": "3.7.1"
  }
 },
 "nbformat": 4,
 "nbformat_minor": 2
}
